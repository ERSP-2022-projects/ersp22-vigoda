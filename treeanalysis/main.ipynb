{
 "cells": [
  {
   "cell_type": "code",
   "execution_count": null,
   "metadata": {},
   "outputs": [],
   "source": [
    "import CompareTrees\n",
    "import os"
   ]
  },
  {
   "cell_type": "code",
   "execution_count": 1,
   "metadata": {},
   "outputs": [
    {
     "ename": "CalledProcessError",
     "evalue": "Command '['./treegen.out', 'species=10', 'seqlen=1000', 'p_mutate=0.2', 'mutation_model=jc69']' returned non-zero exit status 3221225785.",
     "output_type": "error",
     "traceback": [
      "\u001b[1;31m---------------------------------------------------------------------------\u001b[0m",
      "\u001b[1;31mCalledProcessError\u001b[0m                        Traceback (most recent call last)",
      "\u001b[1;32mc:\\Users\\yasha\\Github\\ersp22-vigoda\\treeanalysis\\main.ipynb Cell 2\u001b[0m in \u001b[0;36m<cell line: 2>\u001b[1;34m()\u001b[0m\n\u001b[0;32m      <a href='vscode-notebook-cell:/c%3A/Users/yasha/Github/ersp22-vigoda/treeanalysis/main.ipynb#W6sZmlsZQ%3D%3D?line=0'>1</a>\u001b[0m \u001b[39mimport\u001b[39;00m \u001b[39mmrBayes\u001b[39;00m\n\u001b[1;32m----> <a href='vscode-notebook-cell:/c%3A/Users/yasha/Github/ersp22-vigoda/treeanalysis/main.ipynb#W6sZmlsZQ%3D%3D?line=1'>2</a>\u001b[0m mrBayes\u001b[39m.\u001b[39;49mtreegen()\n",
      "File \u001b[1;32mc:\\Users\\yasha\\Github\\ersp22-vigoda\\treeanalysis\\mrBayes.py:24\u001b[0m, in \u001b[0;36mtreegen\u001b[1;34m(species, seqlen, p_mutate, mutation_model, seed)\u001b[0m\n\u001b[0;32m     21\u001b[0m     command\u001b[39m.\u001b[39mappend(\u001b[39mf\u001b[39m\u001b[39m\"\u001b[39m\u001b[39mseed=\u001b[39m\u001b[39m{\u001b[39;00mseed\u001b[39m}\u001b[39;00m\u001b[39m\"\u001b[39m)\n\u001b[0;32m     23\u001b[0m command_string \u001b[39m=\u001b[39m \u001b[39m'\u001b[39m\u001b[39m \u001b[39m\u001b[39m'\u001b[39m\u001b[39m.\u001b[39mjoin(\u001b[39mmap\u001b[39m(\u001b[39mstr\u001b[39m, command))\n\u001b[1;32m---> 24\u001b[0m process \u001b[39m=\u001b[39m subprocess\u001b[39m.\u001b[39;49mrun(\n\u001b[0;32m     25\u001b[0m     command, cwd\u001b[39m=\u001b[39;49m\u001b[39mr\u001b[39;49m\u001b[39m\"\u001b[39;49m\u001b[39mC:\u001b[39;49m\u001b[39m\\\u001b[39;49m\u001b[39mUsers\u001b[39;49m\u001b[39m\\\u001b[39;49m\u001b[39myasha\u001b[39;49m\u001b[39m\\\u001b[39;49m\u001b[39mGithub\u001b[39;49m\u001b[39m\\\u001b[39;49m\u001b[39mersp22-vigoda\u001b[39;49m\u001b[39m\\\u001b[39;49m\u001b[39mtreegen\u001b[39;49m\u001b[39m\"\u001b[39;49m, check\u001b[39m=\u001b[39;49m\u001b[39mTrue\u001b[39;49;00m)\n\u001b[0;32m     26\u001b[0m stdout \u001b[39m=\u001b[39m (process\u001b[39m.\u001b[39mstdout)\u001b[39m.\u001b[39mdecode()\n\u001b[0;32m     27\u001b[0m stderr \u001b[39m=\u001b[39m (process\u001b[39m.\u001b[39mstderr)\u001b[39m.\u001b[39mdecode()\n",
      "File \u001b[1;32mc:\\Users\\yasha\\AppData\\Local\\Programs\\Python\\Python310\\lib\\subprocess.py:524\u001b[0m, in \u001b[0;36mrun\u001b[1;34m(input, capture_output, timeout, check, *popenargs, **kwargs)\u001b[0m\n\u001b[0;32m    522\u001b[0m     retcode \u001b[39m=\u001b[39m process\u001b[39m.\u001b[39mpoll()\n\u001b[0;32m    523\u001b[0m     \u001b[39mif\u001b[39;00m check \u001b[39mand\u001b[39;00m retcode:\n\u001b[1;32m--> 524\u001b[0m         \u001b[39mraise\u001b[39;00m CalledProcessError(retcode, process\u001b[39m.\u001b[39margs,\n\u001b[0;32m    525\u001b[0m                                  output\u001b[39m=\u001b[39mstdout, stderr\u001b[39m=\u001b[39mstderr)\n\u001b[0;32m    526\u001b[0m \u001b[39mreturn\u001b[39;00m CompletedProcess(process\u001b[39m.\u001b[39margs, retcode, stdout, stderr)\n",
      "\u001b[1;31mCalledProcessError\u001b[0m: Command '['./treegen.out', 'species=10', 'seqlen=1000', 'p_mutate=0.2', 'mutation_model=jc69']' returned non-zero exit status 3221225785."
     ]
    }
   ],
   "source": [
    "import mrBayes\n",
    "mrBayes.treegen()"
   ]
  },
  {
   "cell_type": "code",
   "execution_count": null,
   "metadata": {},
   "outputs": [],
   "source": [
    "#iterate through directory\n",
    "directory = \"..\\\\treegen\\\\results\"\n",
    "\n",
    "for filename in os.listdir(directory):\n",
    "    if filename.endswith(\".nex\"):\n",
    "        input_filepath = os.path.join(directory, filename)\n",
    "        mrBayes.generateAndRun(nexus_filepath = input_filepath)"
   ]
  },
  {
   "cell_type": "code",
   "execution_count": null,
   "metadata": {},
   "outputs": [],
   "source": [
    "target_directory = r\"C:\\Users\\yasha\\Github\\ersp22-vigoda\\treeanalysis\\analysis\\nCharsMixingTime\"\n",
    "treegen_params = {\n",
    "    \"species\": 20,\n",
    "    \"seqlen\": 1000,\n",
    "}\n",
    "mrbayes_params = {\n",
    "    \"target_directory\": target_directory,\n",
    "}\n",
    "\n",
    "all_params = {**treegen_params,**mrbayes_params}\n",
    "mrBayes.generateAndRun(**all_params)\n"
   ]
  },
  {
   "cell_type": "code",
   "execution_count": null,
   "metadata": {},
   "outputs": [],
   "source": [
    "# # FOR DELETING ALL FILES\n",
    "\n",
    "# for filename in os.listdir(directory):\n",
    "#     if not (filename.endswith('.txt') or filename.endswith('.nex')):\n",
    "#         os.remove(os.path.join(directory, filename))"
   ]
  },
  {
   "cell_type": "code",
   "execution_count": null,
   "metadata": {},
   "outputs": [],
   "source": [
    "import subprocess\n",
    "\n",
    "threshold = 100\n",
    "brk = 0\n",
    "for path in os.listdir(directory):\n",
    "    filepath = os.path.join(directory, path)\n",
    "    if os.path.isfile(filepath) and filepath.endswith(\".mrbayes\"):\n",
    "        abs_filepath = os.path.abspath(filepath)\n",
    "        result = subprocess.run(f\"mb {abs_filepath}\", shell=True, capture_output=True, text=True)\n",
    "        brk= brk + 1\n",
    "        print(result.stdout)\n",
    "        if(brk >= threshold):\n",
    "            break\n"
   ]
  }
 ],
 "metadata": {
  "kernelspec": {
   "display_name": "Python 3",
   "language": "python",
   "name": "python3"
  },
  "language_info": {
   "codemirror_mode": {
    "name": "ipython",
    "version": 3
   },
   "file_extension": ".py",
   "mimetype": "text/x-python",
   "name": "python",
   "nbconvert_exporter": "python",
   "pygments_lexer": "ipython3",
   "version": "3.10.4"
  },
  "orig_nbformat": 4,
  "vscode": {
   "interpreter": {
    "hash": "39a0d478676dff6bb5e1da7fe4bbad22cfef04661a6d53d43930fc097120d6f3"
   }
  }
 },
 "nbformat": 4,
 "nbformat_minor": 2
}
