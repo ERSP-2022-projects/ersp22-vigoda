{
 "cells": [
  {
   "cell_type": "code",
   "execution_count": 32,
   "metadata": {},
   "outputs": [],
   "source": [
    "import CompareTrees\n",
    "import os\n",
    "import mrBayes"
   ]
  },
  {
   "cell_type": "code",
   "execution_count": 33,
   "metadata": {},
   "outputs": [],
   "source": [
    "#iterate through directory\n",
    "directory = \"..\\\\treegen\\\\results\"\n",
    "\n",
    "for filename in os.listdir(directory):\n",
    "    if filename.endswith(\".nex\"):\n",
    "        input_filepath = os.path.join(directory, filename)\n",
    "        output_filepath = os.path.join(directory, f\"{filename}.mrbayes\")\n",
    "        mrBayes.generate_mrbayes_script(input_filepath, output_filepath)\n"
   ]
  },
  {
   "cell_type": "code",
   "execution_count": 38,
   "metadata": {},
   "outputs": [],
   "source": [
    "import subprocess\n",
    "\n",
    "for path in os.listdir(directory):\n",
    "    filepath = os.path.join(directory, path)\n",
    "    if os.path.isfile(filepath) and filepath.endswith(\".mrbayes\"):\n",
    "        abs_filepath = os.path.abspath(filepath)\n",
    "        result = subprocess.run(f\"echo {abs_filepath}\", shell=True, capture_output=True, text=True)\n",
    "        print(result.stdout)\n"
   ]
  },
  {
   "cell_type": "code",
   "execution_count": null,
   "metadata": {},
   "outputs": [],
   "source": [
    "mcmcTree = CompareTrees.displayAndReturnTree(\"C:/Users/yasha/Github/ersp22-vigoda/treegen/results/8189_data.nex.trprobs\")\n",
    "\n",
    "print(f\"{mcmcTree= }\")\n",
    "\n",
    "with open(\"C:/Users/yasha/Github/ersp22-vigoda/treegen/results/8189_tree.txt\") as file:\n",
    "    goldStandardTree = file.read()\n",
    "\n",
    "print(f\"{goldStandardTree= }\")\n",
    "CompareTrees.displayTree(goldStandardTree)\n",
    "print(f\"{CompareTrees.calculate_rf_distance(goldStandardTree,mcmcTree)=}\")\n",
    "\n",
    "\n",
    "\n",
    "\n",
    "\n",
    "#print(f\"{distance=}\")"
   ]
  }
 ],
 "metadata": {
  "kernelspec": {
   "display_name": "Python 3",
   "language": "python",
   "name": "python3"
  },
  "language_info": {
   "codemirror_mode": {
    "name": "ipython",
    "version": 3
   },
   "file_extension": ".py",
   "mimetype": "text/x-python",
   "name": "python",
   "nbconvert_exporter": "python",
   "pygments_lexer": "ipython3",
   "version": "3.10.4"
  },
  "orig_nbformat": 4,
  "vscode": {
   "interpreter": {
    "hash": "39a0d478676dff6bb5e1da7fe4bbad22cfef04661a6d53d43930fc097120d6f3"
   }
  }
 },
 "nbformat": 4,
 "nbformat_minor": 2
}
