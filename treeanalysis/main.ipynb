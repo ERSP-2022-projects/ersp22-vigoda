{
 "cells": [
  {
   "cell_type": "code",
   "execution_count": 1,
   "metadata": {},
   "outputs": [],
   "source": [
    "import CompareTrees\n",
    "import os\n",
    "import mrBayes\n"
   ]
  },
  {
   "cell_type": "code",
   "execution_count": 2,
   "metadata": {},
   "outputs": [
    {
     "name": "stdout",
     "output_type": "stream",
     "text": [
      "treegen.out species=10 seqlen=1000 p_mutate=0.2 mutation_model=jc69\n"
     ]
    }
   ],
   "source": [
    "mrBayes.treegen()"
   ]
  },
  {
   "cell_type": "code",
   "execution_count": null,
   "metadata": {},
   "outputs": [],
   "source": [
    "#iterate through directory\n",
    "directory = \"..\\\\treegen\\\\results\"\n",
    "\n",
    "for filename in os.listdir(directory):\n",
    "    if filename.endswith(\".nex\"):\n",
    "        input_filepath = os.path.join(directory, filename)\n",
    "        output_filepath = os.path.join(directory, f\"{filename}.mrbayes\")\n",
    "        mrBayes.generate_mrbayes_script(input_filepath, output_filepath)\n"
   ]
  },
  {
   "cell_type": "code",
   "execution_count": null,
   "metadata": {},
   "outputs": [],
   "source": [
    "# # FOR DELETING ALL FILES\n",
    "\n",
    "# for filename in os.listdir(directory):\n",
    "#     if not (filename.endswith('.txt') or filename.endswith('.nex')):\n",
    "#         os.remove(os.path.join(directory, filename))"
   ]
  },
  {
   "cell_type": "code",
   "execution_count": null,
   "metadata": {},
   "outputs": [],
   "source": [
    "import subprocess\n",
    "\n",
    "threshold = 100\n",
    "brk = 0\n",
    "for path in os.listdir(directory):\n",
    "    filepath = os.path.join(directory, path)\n",
    "    if os.path.isfile(filepath) and filepath.endswith(\".mrbayes\"):\n",
    "        abs_filepath = os.path.abspath(filepath)\n",
    "        result = subprocess.run(f\"mb {abs_filepath}\", shell=True, capture_output=True, text=True)\n",
    "        brk= brk + 1\n",
    "        print(result.stdout)\n",
    "        if(brk >= threshold):\n",
    "            break\n"
   ]
  }
 ],
 "metadata": {
  "kernelspec": {
   "display_name": "Python 3",
   "language": "python",
   "name": "python3"
  },
  "language_info": {
   "codemirror_mode": {
    "name": "ipython",
    "version": 3
   },
   "file_extension": ".py",
   "mimetype": "text/x-python",
   "name": "python",
   "nbconvert_exporter": "python",
   "pygments_lexer": "ipython3",
   "version": "3.10.4"
  },
  "orig_nbformat": 4,
  "vscode": {
   "interpreter": {
    "hash": "39a0d478676dff6bb5e1da7fe4bbad22cfef04661a6d53d43930fc097120d6f3"
   }
  }
 },
 "nbformat": 4,
 "nbformat_minor": 2
}
